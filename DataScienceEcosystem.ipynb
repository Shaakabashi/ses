{
  "metadata": {
    "language_info": {
      "codemirror_mode": {
        "name": "python",
        "version": 3
      },
      "file_extension": ".py",
      "mimetype": "text/x-python",
      "name": "python",
      "nbconvert_exporter": "python",
      "pygments_lexer": "ipython3",
      "version": "3.8"
    },
    "kernelspec": {
      "name": "python",
      "display_name": "Python (Pyodide)",
      "language": "python"
    }
  },
  "nbformat_minor": 4,
  "nbformat": 4,
  "cells": [
    {
      "cell_type": "markdown",
      "source": "# h1 :Data Science Tools and Ecosystem",
      "metadata": {}
    },
    {
      "cell_type": "markdown",
      "source": "### h3 : data science tools and ecosystem are summarized.",
      "metadata": {}
    },
    {
      "cell_type": "markdown",
      "source": "#### h4 : Some of the popular languages that Data Scientists use are:  \n1. python .\n2. c++ .\n3. javascript .",
      "metadata": {}
    },
    {
      "cell_type": "markdown",
      "source": "#### h4 : Some of the commonly used libraries used by Data Scientists include:\n1. numpy .\n2. pandas .\n3. scipy .",
      "metadata": {}
    },
    {
      "cell_type": "markdown",
      "source": "| Data Science Tools |\n|-----|\n| World Bank Open Data |\n| WHO (World Health Organization) — Open data repository |\n| Google Public Data Explorer |",
      "metadata": {}
    },
    {
      "cell_type": "markdown",
      "source": "### h3 : Below are a few examples of evaluating arithmetic expressions in Python : ",
      "metadata": {
        "tags": []
      }
    },
    {
      "cell_type": "code",
      "source": "(3*4)+5\n#This a simple arithmetic expression to mutiply then add integers ",
      "metadata": {
        "trusted": true
      },
      "execution_count": 3,
      "outputs": [
        {
          "execution_count": 3,
          "output_type": "execute_result",
          "data": {
            "text/plain": "17"
          },
          "metadata": {}
        }
      ]
    },
    {
      "cell_type": "code",
      "source": "200/60 \n#This will convert 200 minutes to hours by diving by 60",
      "metadata": {
        "trusted": true
      },
      "execution_count": 5,
      "outputs": [
        {
          "execution_count": 5,
          "output_type": "execute_result",
          "data": {
            "text/plain": "3.3333333333333335"
          },
          "metadata": {}
        }
      ]
    },
    {
      "cell_type": "markdown",
      "source": "### h3 : Objectives: \n- python \n- c++\n- javascript",
      "metadata": {
        "tags": []
      }
    },
    {
      "cell_type": "markdown",
      "source": "## h2 : Author : shaa eldin",
      "metadata": {}
    }
  ]
}